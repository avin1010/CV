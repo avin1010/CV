{
 "cells": [
  {
   "cell_type": "code",
   "execution_count": 2,
   "id": "06617ac8",
   "metadata": {},
   "outputs": [],
   "source": [
    "import numpy as np"
   ]
  },
  {
   "cell_type": "code",
   "execution_count": 3,
   "id": "39f72962",
   "metadata": {},
   "outputs": [
    {
     "name": "stdout",
     "output_type": "stream",
     "text": [
      "Enter the row:2\n",
      "Enter the column:3\n",
      "[21, 14, 13, 22]\n",
      "[21, 14, 13, 22, 7, 16, 19, 3]\n"
     ]
    }
   ],
   "source": [
    "a = np.array([[17, 24, 1, 8, 15],\n",
    "    [23, 5, 7, 14, 16],\n",
    "    [ 4, 6, 13, 20, 22],\n",
    "    [10, 12, 19, 21, 3],\n",
    "    [11, 18, 25, 2, 9]])\n",
    "\n",
    "b = int(input(\"Enter the row:\"))\n",
    "c = int(input(\"Enter the column:\"))\n",
    "\n",
    "N4 = [a[b+1,c] if b+1<a.shape[0] else None,a[b-1,c] if b-1>=0 else None,\n",
    "     a[b,c-1] if c-1>=0 else None,a[b,c+1] if c+1<a.shape[1] else None]\n",
    "\n",
    "N8 = [a[b+1,c] if b+1<a.shape[0] else None,a[b-1,c] if b-1>=0 else None,\n",
    "     a[b,c-1] if c-1>=0 else None,a[b,c+1] if c+1<a.shape[1] else None,a[b-1,c-1] if b-1>=0 and c-1>=0 else None,\n",
    "     a[b-1,c+1] if b-1>=0 and c+1<a.shape[1] else None,a[b+1,c-1] if b+1<a.shape[0] and c-1>=0 else None,\n",
    "     a[b+1,c+1] if b+1<a.shape[0] and c+1<a.shape[1] else None]\n",
    "\n",
    "print(N4)\n",
    "print(N8)\n",
    "\n",
    "\n",
    "\n"
   ]
  },
  {
   "cell_type": "code",
   "execution_count": null,
   "id": "2b79088b",
   "metadata": {},
   "outputs": [],
   "source": []
  }
 ],
 "metadata": {
  "kernelspec": {
   "display_name": "Python 3 (ipykernel)",
   "language": "python",
   "name": "python3"
  },
  "language_info": {
   "codemirror_mode": {
    "name": "ipython",
    "version": 3
   },
   "file_extension": ".py",
   "mimetype": "text/x-python",
   "name": "python",
   "nbconvert_exporter": "python",
   "pygments_lexer": "ipython3",
   "version": "3.11.7"
  }
 },
 "nbformat": 4,
 "nbformat_minor": 5
}
