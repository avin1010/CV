{
 "cells": [
  {
   "cell_type": "code",
   "execution_count": 1,
   "id": "10695df5",
   "metadata": {},
   "outputs": [],
   "source": [
    "import cv2"
   ]
  },
  {
   "cell_type": "code",
   "execution_count": 2,
   "id": "76f5edc4",
   "metadata": {},
   "outputs": [],
   "source": [
    "image = cv2.imread('apple.jpg')"
   ]
  },
  {
   "cell_type": "code",
   "execution_count": 3,
   "id": "3c0584ec",
   "metadata": {},
   "outputs": [],
   "source": [
    "scaling_factor = 0.7\n",
    "\n",
    "scaled_image = cv2.resize(image,None,fx=scaling_factor,fy=scaling_factor,interpolation=cv2.INTER_LINEAR)"
   ]
  },
  {
   "cell_type": "code",
   "execution_count": 11,
   "id": "66297c02",
   "metadata": {},
   "outputs": [],
   "source": [
    "rotation_angle = 45\n",
    "width,height = scaled_image.shape[:2]\n",
    "\n",
    "rotation_matrix = cv2.getRotationMatrix2D((width//2,height//2),rotation_angle,1)\n",
    "\n",
    "#rotation using affine transformation\n",
    "\n",
    "rotated_image = cv2.warpAffine(scaled_image,rotation_matrix,(width,height))"
   ]
  },
  {
   "cell_type": "code",
   "execution_count": null,
   "id": "9bd1fda4",
   "metadata": {},
   "outputs": [],
   "source": [
    "cv2.imshow('Original Image', image) \n",
    "cv2.imshow('Scaled Image', scaled_image) \n",
    "cv2.imshow('Rotated Image', rotated_image) \n",
    "cv2.waitKey(0)\n",
    "cv2.destroyAllWindows()"
   ]
  },
  {
   "cell_type": "code",
   "execution_count": null,
   "id": "4086f8ef",
   "metadata": {},
   "outputs": [],
   "source": []
  }
 ],
 "metadata": {
  "kernelspec": {
   "display_name": "Python 3 (ipykernel)",
   "language": "python",
   "name": "python3"
  },
  "language_info": {
   "codemirror_mode": {
    "name": "ipython",
    "version": 3
   },
   "file_extension": ".py",
   "mimetype": "text/x-python",
   "name": "python",
   "nbconvert_exporter": "python",
   "pygments_lexer": "ipython3",
   "version": "3.11.7"
  }
 },
 "nbformat": 4,
 "nbformat_minor": 5
}
